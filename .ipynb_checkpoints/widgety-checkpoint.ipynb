{
 "cells": [
  {
   "cell_type": "code",
   "execution_count": 1,
   "metadata": {},
   "outputs": [
    {
     "data": {
      "application/vnd.jupyter.widget-view+json": {
       "model_id": "c552c1052e6749f8ac75c35acac13db6"
      }
     },
     "metadata": {},
     "output_type": "display_data"
    },
    {
     "data": {
      "application/vnd.jupyter.widget-view+json": {
       "model_id": "ca83c163ef16450898a2efdc81d2dd3b"
      }
     },
     "metadata": {},
     "output_type": "display_data"
    },
    {
     "data": {
      "application/vnd.jupyter.widget-view+json": {
       "model_id": "a75ea4b677124028b4bba8e540158122"
      }
     },
     "metadata": {},
     "output_type": "display_data"
    },
    {
     "data": {
      "application/vnd.jupyter.widget-view+json": {
       "model_id": "89326c482af3403ba821193c9d87f143"
      }
     },
     "metadata": {},
     "output_type": "display_data"
    },
    {
     "data": {
      "application/vnd.jupyter.widget-view+json": {
       "model_id": "170c8086b23d432db0b4cba42b1ee304"
      }
     },
     "metadata": {},
     "output_type": "display_data"
    },
    {
     "data": {
      "application/vnd.jupyter.widget-view+json": {
       "model_id": "fc6ea1a3dba748ab8dcb7d1096a70121"
      }
     },
     "metadata": {},
     "output_type": "display_data"
    },
    {
     "data": {
      "application/vnd.jupyter.widget-view+json": {
       "model_id": "86a55e3957e3457c9ed28ca3b0ec0758"
      }
     },
     "metadata": {},
     "output_type": "display_data"
    },
    {
     "name": "stdout",
     "output_type": "stream",
     "text": [
      "---------------------------------------------------------------------------------------------\n",
      "|   Running sampleFunction with parameters: (\"Adolfo\", \"Rodriguez\", 0, 165.0, false, 0.0)   |\n",
      "---------------------------------------------------------------------------------------------\n",
      "Name is Adolfo\n",
      "Lastname is Rodriguez\n",
      "Age is 0\n",
      "Height is 165.0\n",
      "Is male: False\n",
      "Moneys is 0.0\n",
      "----------------------------------------------------------------------------------------------\n",
      "|   Running sampleFunction with parameters: (\"Adolfo\", \"Rodriguez\", 0, 165.0, false, 58.0)   |\n",
      "----------------------------------------------------------------------------------------------\n",
      "Name is Adolfo\n",
      "Lastname is Rodriguez\n",
      "Age is 0\n",
      "Height is 165.0\n",
      "Is male: False\n",
      "Moneys is 58.0\n"
     ]
    }
   ],
   "source": [
    "from time import sleep\n",
    "from ipywidgets import *\n",
    "from binding import bind\n",
    "\n",
    "def sampleFunction(text0, text1, i0, i1, b, f):\n",
    "    sleep(3)\n",
    "    print(\"Name is \" + text0)\n",
    "    print(\"Lastname is \" + text1)\n",
    "    print(\"Age is \" + str(i0))\n",
    "    print(\"Height is \" + str(i1))\n",
    "    print(\"Is male: \" + str(b))\n",
    "    print(\"Moneys is \" + str(f))\n",
    "    \n",
    "bind([\n",
    "        {\"Name\":\"Adolfo\"},\n",
    "        {\"Lastname\":Text()},\n",
    "        {\"Age\":IntSlider()},\n",
    "        {\"Height\":165.0},\n",
    "        {\"Male\":ToggleButton(description = \"toggle\")},\n",
    "        {\"Moneys\":FloatSlider()}\n",
    "    ],\n",
    "    sampleFunction\n",
    ")\n",
    "\n",
    "\n",
    "\n",
    "\n"
   ]
  },
  {
   "cell_type": "code",
   "execution_count": null,
   "metadata": {
    "collapsed": true
   },
   "outputs": [],
   "source": []
  },
  {
   "cell_type": "code",
   "execution_count": null,
   "metadata": {
    "collapsed": true
   },
   "outputs": [],
   "source": []
  }
 ],
 "metadata": {
  "kernelspec": {
   "display_name": "Python 3",
   "language": "python",
   "name": "python3"
  },
  "language_info": {
   "codemirror_mode": {
    "name": "ipython",
    "version": 3
   },
   "file_extension": ".py",
   "mimetype": "text/x-python",
   "name": "python",
   "nbconvert_exporter": "python",
   "pygments_lexer": "ipython3",
   "version": "3.6.1"
  }
 },
 "nbformat": 4,
 "nbformat_minor": 2
}
